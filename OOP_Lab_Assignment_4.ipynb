{
  "nbformat": 4,
  "nbformat_minor": 0,
  "metadata": {
    "colab": {
      "name": "OOP_Lab_Assignment_4",
      "provenance": [],
      "authorship_tag": "ABX9TyN3K+a1PlqOXILKLOm3jIIu",
      "include_colab_link": true
    },
    "kernelspec": {
      "name": "python3",
      "display_name": "Python 3"
    },
    "language_info": {
      "name": "python"
    }
  },
  "cells": [
    {
      "cell_type": "markdown",
      "metadata": {
        "id": "view-in-github",
        "colab_type": "text"
      },
      "source": [
        "<a href=\"https://colab.research.google.com/github/Yashu-2021/OOP-Lab-assignments/blob/main/OOP_Lab_Assignment_4.ipynb\" target=\"_parent\"><img src=\"https://colab.research.google.com/assets/colab-badge.svg\" alt=\"Open In Colab\"/></a>"
      ]
    },
    {
      "cell_type": "markdown",
      "metadata": {
        "id": "JdWbEXElWWI5"
      },
      "source": [
        "**OOP LAB 4**\n",
        "\n",
        "1.  Write a python code to create a class node with data and address of next node as\n",
        "parameters. Derive stack class from node class with top position or head node position as a\n",
        "parameter and also perform the following operations.\n",
        "\n",
        "a. Check stack is empty\n",
        "\n",
        "b. Add data to stack\n",
        "\n",
        "c. Delete data from the stack.\n",
        "\n",
        "d. Display the elements of the stack.\n",
        "\n",
        "e. Deallocate the memory assigned to each node using destructors."
      ]
    },
    {
      "cell_type": "code",
      "metadata": {
        "colab": {
          "base_uri": "https://localhost:8080/"
        },
        "id": "oI7vm1dAODpq",
        "outputId": "437d4bbb-4397-4701-8344-7fe5c688ea2c"
      },
      "source": [
        "class Node:\n",
        "  def __init__(self, data):\n",
        "    self.data = data\n",
        "    self.next = None\n",
        "\n",
        "  def __del__(self):\n",
        "    print(self.data, 'deleted from the stack.')\n",
        "\n",
        "class Stack:\n",
        "  def __init__(self, data):\n",
        "    self.top = Node(data)\n",
        "    print(self.top.data,'added to the stack.')\n",
        "\n",
        "  # Add data\n",
        "  def add(self, data):\n",
        "    new = Node(data)\n",
        "    new.next = self.top\n",
        "    self.top = new\n",
        "    print(self.top.data, 'added to the stack.')\n",
        "\n",
        "  # Delete data\n",
        "  def remove(self):\n",
        "    try:\n",
        "      del_node = self.top\n",
        "      self.top = self.top.next\n",
        "      del del_node\n",
        "\n",
        "    except AttributeError:\n",
        "      print(' Stack is empty so cannot remove any more elements from it.')\n",
        "\n",
        "  # Display data\n",
        "  def view(self):\n",
        "    print('\\nThe elements of the stack are : ',sep=' ')\n",
        "    curr_node = self.top\n",
        "    while curr_node.next is not None:\n",
        "      print(curr_node.data, sep=' ')\n",
        "      curr_node = curr_node.next\n",
        "    print(curr_node.data)\n",
        "    print()\n",
        "\n",
        "  # Check stack is empty\n",
        "  def is_empty(self):\n",
        "    try:\n",
        "      print('Stack is not empty and it begins with', self.top.data)\n",
        "    except AttributeError:\n",
        "      print('Stack is empty')\n",
        "\n",
        "  # Deallocating memory\n",
        "  def __del__(self):\n",
        "    curr_node = self.top\n",
        "    while curr_node.next is not None:\n",
        "      del_node = curr_node\n",
        "      curr_node = curr_node.next\n",
        "      del del_node\n",
        "    del curr_node\n",
        "    print('Stack deleted.')\n",
        "\n",
        "\n",
        "stack = Stack(3)\n",
        "stack.add(6)\n",
        "stack.add('s')\n",
        "stack.add(0.89)\n",
        "\n",
        "stack.view()\n",
        "\n",
        "stack.is_empty()\n",
        "\n",
        "# stack.remove()\n",
        "stack.remove()\n",
        "stack.remove()\n",
        "\n",
        "stack.add('32')\n",
        "\n",
        "stack.view()\n",
        "\n",
        "stack.is_empty()\n",
        "\n",
        "del stack"
      ],
      "execution_count": 27,
      "outputs": [
        {
          "output_type": "stream",
          "name": "stdout",
          "text": [
            "3 added to the stack.\n",
            "6 added to the stack.\n",
            "s added to the stack.\n",
            "0.89 added to the stack.\n",
            "\n",
            "The elements of the stack are : \n",
            "0.89\n",
            "s\n",
            "6\n",
            "3\n",
            "\n",
            "Stack is not empty and it begins with 0.89\n",
            "0.89 deleted from the stack.\n",
            "s deleted from the stack.\n",
            "32 added to the stack.\n",
            "\n",
            "The elements of the stack are : \n",
            "32\n",
            "6\n",
            "3\n",
            "\n",
            "Stack is not empty and it begins with 32\n",
            "Stack deleted.\n",
            "32 deleted from the stack.\n",
            "6 deleted from the stack.\n",
            "3 deleted from the stack.\n"
          ]
        }
      ]
    },
    {
      "cell_type": "markdown",
      "metadata": {
        "id": "EVOD2xnLW4G6"
      },
      "source": [
        "2. Write a python code to calculate the area of a rectangle using parametrized and default\n",
        "constructors."
      ]
    },
    {
      "cell_type": "code",
      "metadata": {
        "colab": {
          "base_uri": "https://localhost:8080/"
        },
        "id": "WUyPr_UqGsLw",
        "outputId": "3d733511-6de1-45dc-f6a2-2b6a815b16c0"
      },
      "source": [
        "#default constructor\n",
        "class Rectangle:\n",
        "    def __init__(self):\n",
        "        self.length = 0\n",
        "        self.breadth = 0\n",
        "\n",
        "    def set_Data(self, length, breadth):\n",
        "        self.length = length\n",
        "        self.breadth = breadth\n",
        "    \n",
        "    def calculate_Area(self):\n",
        "        return self.length * self.breadth\n",
        "        \n",
        "#parametarised constructor\n",
        "class RectangeP:\n",
        "    def __init__(self, length, breadth):\n",
        "        self.length = length\n",
        "        self.breadth = breadth\n",
        "\n",
        "    def calculate_Area(self):\n",
        "        return self.length * self.breadth\n",
        "\n",
        "\n",
        "obj1 = Rectangle()\n",
        "obj1.set_Data(4, 9)\n",
        "print(f\"Area of default constructor rectangle : {obj1.calculate_Area()}\")\n",
        "obj2 = RectangeP(30, 45)\n",
        "print(f\"Area of parameterized constructor rectangle : {obj2.calculate_Area()}\")"
      ],
      "execution_count": 28,
      "outputs": [
        {
          "output_type": "stream",
          "name": "stdout",
          "text": [
            "Area of default constructor rectangle : 36\n",
            "Area of parameterized constructor rectangle : 1350\n"
          ]
        }
      ]
    },
    {
      "cell_type": "markdown",
      "metadata": {
        "id": "RYCvKv67W_-T"
      },
      "source": [
        "3.  Write a python program to implement queue operations using constructors and destructors.\n",
        "\n",
        "    [Note: destructors are used to deallocate the memory assigned to each node]"
      ]
    },
    {
      "cell_type": "code",
      "metadata": {
        "colab": {
          "base_uri": "https://localhost:8080/"
        },
        "id": "pX5fQJPAQiqd",
        "outputId": "b1c0df42-af31-4add-a8e2-8ae793c573a1"
      },
      "source": [
        "class Queue:\n",
        "    def __init__(self):\n",
        "        self.queue = []\n",
        "\n",
        "    def isEmpty(self):\n",
        "        return self.queue == []\n",
        "\n",
        "    def enqueue(self, data):\n",
        "        self.queue.append(data)\n",
        "\n",
        "    def dequeue(self):\n",
        "        return self.queue.pop(0)\n",
        "\n",
        "    def display_Queue(self):\n",
        "        print(f\"Queue : {self.queue}\")\n",
        "\n",
        "    def __del__(self):\n",
        "        print(\"Queue deleted\")\n",
        "\n",
        "q = Queue()\n",
        "for i in range(0, 15):\n",
        "    q.enqueue(i)\n",
        "\n",
        "q.display_Queue()\n",
        "\n",
        "for i in range(1, 6):\n",
        "    print(f\"Value Dequeued : {q.dequeue()}\")\n",
        "\n",
        "q.display_Queue()\n"
      ],
      "execution_count": 29,
      "outputs": [
        {
          "output_type": "stream",
          "name": "stdout",
          "text": [
            "Queue deleted\n",
            "Queue : [0, 1, 2, 3, 4, 5, 6, 7, 8, 9, 10, 11, 12, 13, 14]\n",
            "Value Dequeued : 0\n",
            "Value Dequeued : 1\n",
            "Value Dequeued : 2\n",
            "Value Dequeued : 3\n",
            "Value Dequeued : 4\n",
            "Queue : [5, 6, 7, 8, 9, 10, 11, 12, 13, 14]\n"
          ]
        }
      ]
    }
  ]
}