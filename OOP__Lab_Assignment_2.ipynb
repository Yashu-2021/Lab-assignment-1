{
  "nbformat": 4,
  "nbformat_minor": 0,
  "metadata": {
    "colab": {
      "name": "OOP_ Lab_Assignment_2",
      "provenance": [],
      "authorship_tag": "ABX9TyMEDWGRWTrnui4CsOc+rLVG",
      "include_colab_link": true
    },
    "kernelspec": {
      "name": "python3",
      "display_name": "Python 3"
    },
    "language_info": {
      "name": "python"
    }
  },
  "cells": [
    {
      "cell_type": "markdown",
      "metadata": {
        "id": "view-in-github",
        "colab_type": "text"
      },
      "source": [
        "<a href=\"https://colab.research.google.com/github/Yashu-2021/OOP-Lab-assignments/blob/main/OOP__Lab_Assignment_2.ipynb\" target=\"_parent\"><img src=\"https://colab.research.google.com/assets/colab-badge.svg\" alt=\"Open In Colab\"/></a>"
      ]
    },
    {
      "cell_type": "markdown",
      "metadata": {
        "id": "GuP1ya_rSFSf"
      },
      "source": [
        "Problem-1  Create a python class circle, constructed by a radius and two methods that will\n",
        "compute the area and the perimeter of a circle."
      ]
    },
    {
      "cell_type": "code",
      "metadata": {
        "colab": {
          "base_uri": "https://localhost:8080/"
        },
        "id": "uWxL8JHYiive",
        "outputId": "da9c76f8-1c62-4073-e680-ea130e934038"
      },
      "source": [
        "import math\n",
        "class Circle:\n",
        "    def __init__(self, radius):\n",
        "        self.radius = radius\n",
        "\n",
        "    def perimeter(self):\n",
        "        return (2 * math.pi * self.radius)\n",
        "\n",
        "    def area(self):\n",
        "        return (math.pi * (self.radius ** 2))\n",
        "\n",
        "c = Circle(3)\n",
        "print(c.perimeter())\n",
        "print(c.area())"
      ],
      "execution_count": 29,
      "outputs": [
        {
          "output_type": "stream",
          "name": "stdout",
          "text": [
            "18.84955592153876\n",
            "28.274333882308138\n"
          ]
        }
      ]
    },
    {
      "cell_type": "markdown",
      "metadata": {
        "id": "4XTUCJNPSOuX"
      },
      "source": [
        "Problem-2  Write a python program to enter the data of a 5 teaching faculty and display it. (Data\n",
        "of a Faculty: Name, Emp ID, Branch, Salary)."
      ]
    },
    {
      "cell_type": "code",
      "metadata": {
        "id": "8jxUs9qejA9g",
        "colab": {
          "base_uri": "https://localhost:8080/"
        },
        "outputId": "9feaf8db-a474-4634-f4b8-9b553d2e67a8"
      },
      "source": [
        "class Faculty:\n",
        "    def _init_(self):\n",
        "        self.Name=\"\"\n",
        "        self.Emp_Id=0\n",
        "        self.Branch=\"\"\n",
        "        self.Salary=0\n",
        "\n",
        "    def Input_data(self):\n",
        "        self.Name=input(\"\\nEnter Name: \")\n",
        "        self.Emp_Id=int(input(\"Enter Employee Id: \"))\n",
        "        self.Branch=input(\"Enter Branch of Employee: \")\n",
        "        self.Salary=int(input(\"Enter Salary of Employee: \"))\n",
        "\n",
        "    def Display(self):\n",
        "        print(\"\\nDetails of the Faculty {}\".format(i+1))\n",
        "        print(\"    Name : \",self.Name)\n",
        "        print(\"    Employee ID: \",self.Emp_Id)\n",
        "        print(\"    Branch of Employee: \",self.Branch)\n",
        "        print(\"    Salary of Employee: \",self.Salary)\n",
        "\n",
        "List=[]\n",
        "for i in range(5):\n",
        "    fac=Faculty()\n",
        "    fac.Input_data()\n",
        "    List.append(fac)\n",
        "\n",
        "for i in range(5):\n",
        "    List[i].Display()"
      ],
      "execution_count": 30,
      "outputs": [
        {
          "output_type": "stream",
          "name": "stdout",
          "text": [
            "\n",
            "Enter Name: Hitesh\n",
            "Enter Employee Id: 23411\n",
            "Enter Branch of Employee: cse\n",
            "Enter Salary of Employee: 34000\n",
            "\n",
            "Enter Name: Sakshi\n",
            "Enter Employee Id: 45610\n",
            "Enter Branch of Employee: IT\n",
            "Enter Salary of Employee: 29500\n",
            "\n",
            "Enter Name: Mitali\n",
            "Enter Employee Id: 38631\n",
            "Enter Branch of Employee: ece\n",
            "Enter Salary of Employee: 23100\n",
            "\n",
            "Enter Name: Saurav\n",
            "Enter Employee Id: 85023\n",
            "Enter Branch of Employee: cse\n",
            "Enter Salary of Employee: 45200\n",
            "\n",
            "Enter Name: Niket\n",
            "Enter Employee Id: 10934\n",
            "Enter Branch of Employee: cse\n",
            "Enter Salary of Employee: 38910\n",
            "\n",
            "Details of the Faculty 1\n",
            "    Name :  Hitesh\n",
            "    Employee ID:  23411\n",
            "    Branch of Employee:  cse\n",
            "    Salary of Employee:  34000\n",
            "\n",
            "Details of the Faculty 2\n",
            "    Name :  Sakshi\n",
            "    Employee ID:  45610\n",
            "    Branch of Employee:  IT\n",
            "    Salary of Employee:  29500\n",
            "\n",
            "Details of the Faculty 3\n",
            "    Name :  Mitali\n",
            "    Employee ID:  38631\n",
            "    Branch of Employee:  ece\n",
            "    Salary of Employee:  23100\n",
            "\n",
            "Details of the Faculty 4\n",
            "    Name :  Saurav\n",
            "    Employee ID:  85023\n",
            "    Branch of Employee:  cse\n",
            "    Salary of Employee:  45200\n",
            "\n",
            "Details of the Faculty 5\n",
            "    Name :  Niket\n",
            "    Employee ID:  10934\n",
            "    Branch of Employee:  cse\n",
            "    Salary of Employee:  38910\n"
          ]
        }
      ]
    },
    {
      "cell_type": "markdown",
      "metadata": {
        "id": "D41a9q5uSXy7"
      },
      "source": [
        "Problem-3  Write a python program to demonstrate the working of the banking system.\n",
        "a. Create account class with data members (Account No, Account holder name,\n",
        "Amount)\n",
        "b. Crete constructor to initialize data members.\n",
        "c. Create member functions (Deposit, withdraw, check balance, and display account\n",
        "details)"
      ]
    },
    {
      "cell_type": "code",
      "metadata": {
        "id": "Mh2Q_MBLkeSF",
        "colab": {
          "base_uri": "https://localhost:8080/"
        },
        "outputId": "474ed668-675e-45b3-b6f5-5ef0dab58fdd"
      },
      "source": [
        "class Account:\n",
        "    def __init__(self, acc_Num, acc_Holder, amount):\n",
        "        self.account_Number = acc_Num\n",
        "        self.account_Holder = acc_Holder\n",
        "        self.account_amount = amount\n",
        "\n",
        "    def deposit(self):\n",
        "        dep_amount = int(input(\"Enter the amount to deposit : \"))\n",
        "        self.account_amount += dep_amount\n",
        "        print(f\"Deposited amount : {dep_amount}\")\n",
        "        print(f\"New Balance : {self.account_amount}\")\n",
        "\n",
        "    def withdraw(self):\n",
        "        with_amount = int(input(\"\\nEnter the amount to withdraw : \"))\n",
        "        if with_amount > self.account_amount:\n",
        "            print(\"Your account don't have sufficient ammount !!\")\n",
        "            return -1\n",
        "        self.account_amount -= with_amount\n",
        "        print(f\"Withdrawal amount : {with_amount}\")\n",
        "        print(f\"New Balance : {self.account_amount}\")\n",
        "        return with_amount\n",
        "\n",
        "    def check_Balance(self):\n",
        "        print(f\"Balance : {self.account_amount}\")\n",
        "        return self.account_amount\n",
        "\n",
        "    def getDetails(self):\n",
        "        print(f\"\\nAccount Number : {self.account_Number}\")\n",
        "        print(f\"Account Holder Name  : {self.account_Holder}\") \n",
        "        print(f\"Amount : {self.account_amount}\")\n",
        "        return self.account_Number, self.account_Holder, self.account_amount\n",
        "\n",
        "A = Account(32982368, \"Ishita\", 5000)\n",
        "A.deposit()\n",
        "withdraw = A.withdraw()\n",
        "check_balance = A.check_Balance()\n",
        "details = A.getDetails()"
      ],
      "execution_count": 34,
      "outputs": [
        {
          "output_type": "stream",
          "name": "stdout",
          "text": [
            "Enter the amount to deposit : 24000\n",
            "Deposited amount : 24000\n",
            "New Balance : 29000\n",
            "\n",
            "Enter the amount to withdraw : 5500\n",
            "Withdrawal amount : 5500\n",
            "New Balance : 23500\n",
            "Balance : 23500\n",
            "\n",
            "Account Number : 32982368\n",
            "Account Holder Name  : Ishita\n",
            "Amount : 23500\n"
          ]
        }
      ]
    },
    {
      "cell_type": "markdown",
      "metadata": {
        "id": "tztZHIgAShXg"
      },
      "source": [
        "Problem-4 Write a python program to store and display the student name, USN, and marks of a\n",
        "student. Use the list to store the marks of a student in three subjects."
      ]
    },
    {
      "cell_type": "code",
      "metadata": {
        "colab": {
          "base_uri": "https://localhost:8080/"
        },
        "id": "kQiyC4tVkoin",
        "outputId": "9b023c5e-8d17-4385-d66e-a6f5c45f1ed3"
      },
      "source": [
        "class Records:\n",
        "\n",
        "    def setData(self):\n",
        "        self.name = input(\"Enter the name of the student : \")\n",
        "        self.USN = int(input(\"Enter the USN of the student : \"))\n",
        "        self.marks = []\n",
        "        for i in range(1, 4):\n",
        "            marks = input(f\"Enter the marks for subject {i} : \")\n",
        "            self.marks.append(marks)\n",
        "\n",
        "    def getData(self):\n",
        "        print(f\"Name : {self.name} \\nUSN : {self.USN} \\nMarks : \\nSubject 1 : {self.marks[0]} \\nSubject 2 : {self.marks[1]} \\nSubject 3 : {self.marks[2]}\")\n",
        "        return self.name, self.USN, self.marks\n",
        "\n",
        "s1 = Records()\n",
        "s1.setData()\n",
        "list1 = s1.getData()\n",
        "print(list1)"
      ],
      "execution_count": 36,
      "outputs": [
        {
          "output_type": "stream",
          "name": "stdout",
          "text": [
            "Enter the name of the student : Akshat\n",
            "Enter the USN of the student : 9\n",
            "Enter the marks for subject 1 : 98\n",
            "Enter the marks for subject 2 : 90\n",
            "Enter the marks for subject 3 : 96\n",
            "Name : Akshat \n",
            "USN : 9 \n",
            "Marks : \n",
            "Subject 1 : 98 \n",
            "Subject 2 : 90 \n",
            "Subject 3 : 96\n",
            "('Akshat', 9, ['98', '90', '96'])\n"
          ]
        }
      ]
    },
    {
      "cell_type": "markdown",
      "metadata": {
        "id": "5WEQgTtoSysr"
      },
      "source": [
        "Problem-5 A hospital wants to create a database regarding covid-19 patients. The information to\n",
        "store include:\n",
        "a) Name of the patient\n",
        "b) Date of admission.\n",
        "c) List of symptoms.\n",
        "d) Oxygen level.\n",
        "d) Date of discharge.\n",
        "Note: If the oxygen level is less than 90, then the patient is put on oxygen support else\n",
        "moved to the general ward for observation.\n",
        "Create a class to store the above information. The member function should include a\n",
        "function to enter patient’s information, check the severity, display the number of\n",
        "patients required oxygen support, number of patients in the general ward for\n",
        "observation, and the total number of patients admitted.\n"
      ]
    },
    {
      "cell_type": "code",
      "metadata": {
        "id": "m-5abLOTkvjl",
        "colab": {
          "base_uri": "https://localhost:8080/"
        },
        "outputId": "cd8a27a6-39d9-4bc2-b3d5-15f5fd3a988d"
      },
      "source": [
        "class patients:\n",
        "\n",
        "  def __init__(self):\n",
        "    self.name = input(\"\\nEnter patient's name: \")\n",
        "    self.date_admit = input(\"Enter date of admit as dd/mm/yyyy: \")\n",
        "    no_of_symptoms = int(input(\"Enter the number of symptoms: \"))\n",
        "    self.symptoms = []\n",
        "    for i in range(0, no_of_symptoms):\n",
        "      sym = input(\"Enter the symptoms: \")\n",
        "      self.symptoms.append(sym)\n",
        "    self.oxygen_level = int(input(\"Enter the oxygen level in percentage: \"))\n",
        "    self.date_discharge = input(\"Enter the date of discharge as dd/mm/yyyy: \")\n",
        "    \n",
        "\n",
        "  def pat_info(self):\n",
        "    print(\"\\n\")\n",
        "    print(\"Patient's name is: \",self.name)\n",
        "    print(\"Patient's date of admit is: \",self.date_admit)\n",
        "    print(\"Patient's symptoms are: \",self.symptoms)\n",
        "    print(\"Patient's oxygen level is: \",self.oxygen_level)\n",
        "    print(\"Patient's date of discharge is: \",self.date_discharge)\n",
        "\n",
        "  def severity(self):\n",
        "    if self.oxygen_level < 90:\n",
        "      print(\"The person is in severe condition\")\n",
        "    else:\n",
        "      print(\"The person is not in severe condition\\n\")    \n",
        "\n",
        "c1=patients()\n",
        "c1.pat_info()\n",
        "c1.severity()\n",
        "\n",
        "c2=patients()\n",
        "c2.pat_info()\n",
        "c2.severity()"
      ],
      "execution_count": 38,
      "outputs": [
        {
          "output_type": "stream",
          "name": "stdout",
          "text": [
            "\n",
            "Enter patient's name: Diksha\n",
            "Enter date of admit as dd/mm/yyyy: 29/08/2021\n",
            "Enter the number of symptoms: 2\n",
            "Enter the symptoms: Cough\n",
            "Enter the symptoms: Nausea\n",
            "Enter the oxygen level in percentage: 88\n",
            "Enter the date of discharge as dd/mm/yyyy: 04/09/2021\n",
            "\n",
            "\n",
            "Patient's name is:  Diksha\n",
            "Patient's date of admit is:  29/08/2021\n",
            "Patient's symptoms are:  ['Cough', 'Nausea']\n",
            "Patient's oxygen level is:  88\n",
            "Patient's date of discharge is:  04/09/2021\n",
            "The person is in severe condition\n",
            "\n",
            "Enter patient's name: Rohan\n",
            "Enter date of admit as dd/mm/yyyy: 03/09/2021\n",
            "Enter the number of symptoms: 1\n",
            "Enter the symptoms: Fever\n",
            "Enter the oxygen level in percentage: 96\n",
            "Enter the date of discharge as dd/mm/yyyy: 03/09/2021\n",
            "\n",
            "\n",
            "Patient's name is:  Rohan\n",
            "Patient's date of admit is:  03/09/2021\n",
            "Patient's symptoms are:  ['Fever']\n",
            "Patient's oxygen level is:  96\n",
            "Patient's date of discharge is:  03/09/2021\n",
            "The person is not in severe condition\n",
            "\n"
          ]
        }
      ]
    },
    {
      "cell_type": "markdown",
      "metadata": {
        "id": "p2iOZeOyS88Q"
      },
      "source": [
        "Problem-6 Create a Class time that has separate int member data for hours, minutes, and\n",
        "seconds. One\n",
        "constructor should initialize this data to 0 and another should initialize it to fixed\n",
        "values. Another member function should display it in hh:mm: ss format."
      ]
    },
    {
      "cell_type": "code",
      "metadata": {
        "colab": {
          "base_uri": "https://localhost:8080/"
        },
        "id": "yTRmEgc4k1ZH",
        "outputId": "23ec49f1-a194-41ef-e80a-bdaf369243c6"
      },
      "source": [
        "class Time:\n",
        "    def set_To_Default(self):\n",
        "        self.hours = 0\n",
        "        self.minutes = 0\n",
        "        self.seconds = 0\n",
        "\n",
        "    def set_To_Val(self, hours, minutes, seconds):\n",
        "        if seconds > 59:\n",
        "            temp_Minutes = seconds // 60\n",
        "            seconds = seconds % 60\n",
        "            self.seconds = seconds\n",
        "            self.minutes = temp_Minutes + minutes\n",
        "        else:\n",
        "            self.seconds = seconds\n",
        "            self.minutes = minutes\n",
        "\n",
        "        if self.minutes > 59:\n",
        "            temp_Hours = self.minutes // 60\n",
        "            self.minutes = self.minutes % 60\n",
        "            self.hours = temp_Hours + hours\n",
        "        else:\n",
        "            self.minutes = minutes\n",
        "            self.hours = hours\n",
        "\n",
        "    def display_Time(self):\n",
        "        print(f\"Time : {self.hours}::{self.minutes}::{self.seconds}\")\n",
        "\n",
        "\n",
        "T1 = Time()\n",
        "T1.set_To_Default()\n",
        "T1.display_Time()\n",
        "T1.set_To_Val(17, 130, 200)\n",
        "T1.display_Time()\n",
        "T1.set_To_Val(5, 100, 50)\n",
        "T1.display_Time()"
      ],
      "execution_count": 39,
      "outputs": [
        {
          "output_type": "stream",
          "name": "stdout",
          "text": [
            "Time : 0::0::0\n",
            "Time : 19::13::20\n",
            "Time : 6::40::50\n"
          ]
        }
      ]
    },
    {
      "cell_type": "markdown",
      "metadata": {
        "id": "j8jI9h4ZTGKz"
      },
      "source": [
        "Problem-7  Create a class to store the details of two students: std1(Name= Rahul, Age =21, roll\n",
        "no=33),\n",
        "Std2( Name = Rohit, Age=22, Roll no = 74)\n",
        "Write a function to compare the age of both the students, print whether they are equal\n",
        "or not equal."
      ]
    },
    {
      "cell_type": "code",
      "metadata": {
        "colab": {
          "base_uri": "https://localhost:8080/"
        },
        "id": "ZkMv5iRak8kz",
        "outputId": "a85963fa-f830-4e10-f1b9-0f400271484b"
      },
      "source": [
        "class Student:\n",
        "    def __init__(self, name, age, rollNo):\n",
        "        self.name = name\n",
        "        self.age = age\n",
        "        self.rollNo = rollNo\n",
        "\n",
        "    @classmethod\n",
        "    def compare_Students_Age( cls, std1, std2):\n",
        "        if std1.age == std2.age:\n",
        "            print(\"Age of the students are equal.\")\n",
        "        else:\n",
        "            print(\"Age of the students are not equal.\")\n",
        "\n",
        "std1 = Student(\"Rahul\", 21, 33)\n",
        "std2 = Student(\"Rohit\", 22, 74)\n",
        "\n",
        "Student.compare_Students_Age(std1, std2)"
      ],
      "execution_count": 40,
      "outputs": [
        {
          "output_type": "stream",
          "name": "stdout",
          "text": [
            "Age of the students are not equal.\n"
          ]
        }
      ]
    },
    {
      "cell_type": "markdown",
      "metadata": {
        "id": "jAROFAL5TO0M"
      },
      "source": [
        "Problem-8 Create an instance of a class to store student details such as Sem, Institute, Name, and\n",
        "usn where:\n",
        " Sem and Institute details should be class variables.\n",
        " Name and usn should be instance variables.\n",
        "And also, print the instance variable using the instance method and class variable\n",
        "using the class method, also use a static method to print an explanation about the\n",
        "class."
      ]
    },
    {
      "cell_type": "code",
      "metadata": {
        "id": "ETjU885-lGEj",
        "colab": {
          "base_uri": "https://localhost:8080/"
        },
        "outputId": "5762d3fc-badd-48ae-9e39-75ccb247d9cf"
      },
      "source": [
        "class Student:\n",
        "    sem = 3\n",
        "    institute = \"IIIT Dharwad\"\n",
        "    \n",
        "    def set_Data(self):\n",
        "        self.name = input(\"Enter the Name of the student : \")\n",
        "        self.id = int(input(\"Enter the USN of student : \"))\n",
        "\n",
        "    def get_Instance_Data(self):\n",
        "        print(f\"Name : {self.name} \\nUSN = {self.id}\")\n",
        "\n",
        "    @classmethod\n",
        "    def get_Class_Data(cls):\n",
        "        print(f\"Semester : {cls.sem} \\nInstitute : {cls.institute} \\n\")\n",
        "\n",
        "    @staticmethod\n",
        "    def get_Explanation():\n",
        "        print(\"Class variables (sem and institute) are printed using Class Method and Instance variables ( name and id )are printed using Instance Method\")\n",
        "\n",
        "\n",
        "s1 = Student()\n",
        "s1.set_Data()\n",
        "s1.get_Instance_Data()\n",
        "Student.get_Class_Data()\n",
        "Student.get_Explanation()"
      ],
      "execution_count": 41,
      "outputs": [
        {
          "output_type": "stream",
          "name": "stdout",
          "text": [
            "Enter the Name of the student : Saksham\n",
            "Enter the USN of student : 35\n",
            "Name : Saksham \n",
            "USN = 35\n",
            "Semester : 3 \n",
            "Institute : IIIT Dharwad \n",
            "\n",
            "Class variables (sem and institute) are printed using Class Method and Instance variables ( name and id )are printed using Instance Method\n"
          ]
        }
      ]
    },
    {
      "cell_type": "markdown",
      "metadata": {
        "id": "rQNAuWmdTXA-"
      },
      "source": [
        "Problem-9  Write a python program to create a student class with the variable Name, Roll no, and\n",
        "Sem, also the student is having a laptop create an instance of an inner class laptop\n",
        "with variable cpu, Ram, and hard disk and display details. Also, create multiple\n",
        "objects for the inner class laptop."
      ]
    },
    {
      "cell_type": "code",
      "metadata": {
        "id": "NF3Z3XnBlKgE",
        "colab": {
          "base_uri": "https://localhost:8080/"
        },
        "outputId": "1c8ad7a0-8192-4315-d812-690788a7de26"
      },
      "source": [
        "class Student:\n",
        "    def set_Data(self):\n",
        "        self.Name = input(\"Enter name of student : \")\n",
        "        self.ID = int(input(\"Enter Roll Number : \"))\n",
        "        self.sem = int(input(\"Enter semester : \"))\n",
        "        self.nLaptop = int(input(\"Enter the number of laptops : \"))\n",
        "        self.list_Laptop = []\n",
        "        for i in range (0, self.nLaptop):\n",
        "            tempObj = self.Laptop()\n",
        "            self.list_Laptop.append(tempObj)\n",
        "\n",
        "    class Laptop:\n",
        "        def __init__(self):\n",
        "            self.cpu = input(\"Enter the name of the CPU : \")\n",
        "            self.ram = input(\"Enter size of RAM  : \")\n",
        "            self.hard_Disk = input(\"Enter size of hard disk : \")\n",
        "            self.display = input(\"Enter the display resolution : \")\n",
        "        \n",
        "        def get_Data(self):\n",
        "            print(f\"CPU : {self.cpu}\") \n",
        "            print(f\"RAM : {self.ram}GB\")\n",
        "            print(f\"Hard Disk : {self.hard_Disk} GB SSD\")\n",
        "            print(f\"Display Resolution : {self.display} cm\")\n",
        "\n",
        "    def get_Data(self):\n",
        "        print(f\"\\nName : {self.Name}\") \n",
        "        print(f\"USN : {self.ID}\")\n",
        "        print(f\"Semester : {self.sem}\")\n",
        "        print(f\"Number of Laptops : {self.nLaptop}\")\n",
        "        for i in range(0, self.nLaptop):\n",
        "            print(f\"\\nDetails of laptop {i+1}  : \")\n",
        "            self.list_Laptop[i].get_Data()\n",
        "\n",
        "S1 = Student()\n",
        "S1.set_Data()\n",
        "S1.get_Data()"
      ],
      "execution_count": 42,
      "outputs": [
        {
          "output_type": "stream",
          "name": "stdout",
          "text": [
            "Enter name of student : Saavi\n",
            "Enter Roll Number : 56\n",
            "Enter semester : 2\n",
            "Enter the number of laptops : 1\n",
            "Enter the name of the CPU : Intel\n",
            "Enter size of RAM  : 64\n",
            "Enter size of hard disk : 512\n",
            "Enter the display resolution : 39.25\n",
            "\n",
            "Name : Saavi\n",
            "USN : 56\n",
            "Semester : 2\n",
            "Number of Laptops : 1\n",
            "\n",
            "Details of laptop 1  : \n",
            "CPU : Intel\n",
            "RAM : 64GB\n",
            "Hard Disk : 512 GB SSD\n",
            "Display Resolution : 39.25 cm\n"
          ]
        }
      ]
    }
  ]
}