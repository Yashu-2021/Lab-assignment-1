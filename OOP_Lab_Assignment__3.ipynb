{
  "nbformat": 4,
  "nbformat_minor": 0,
  "metadata": {
    "colab": {
      "name": "OOP_Lab_Assignment _3",
      "provenance": [],
      "authorship_tag": "ABX9TyNXw8Hw7JXbzCiQWpxeoviT",
      "include_colab_link": true
    },
    "kernelspec": {
      "name": "python3",
      "display_name": "Python 3"
    },
    "language_info": {
      "name": "python"
    }
  },
  "cells": [
    {
      "cell_type": "markdown",
      "metadata": {
        "id": "view-in-github",
        "colab_type": "text"
      },
      "source": [
        "<a href=\"https://colab.research.google.com/github/Yashu-2021/OOP-Lab-assignments/blob/main/OOP_Lab_Assignment__3.ipynb\" target=\"_parent\"><img src=\"https://colab.research.google.com/assets/colab-badge.svg\" alt=\"Open In Colab\"/></a>"
      ]
    },
    {
      "cell_type": "markdown",
      "metadata": {
        "id": "2yxA70MHRxY3"
      },
      "source": [
        " Problem 1 : Write a python program to demonstrate the inheritance principle of OOP. Create a\n",
        "Student class that includes student’s basic information : Name, Reg no, Age, Gender,\n",
        "Branch, Sem. Define functions to read and display basic information. Create a new class\n",
        "StudentResultInfo that inherits from Student class. Derived class will include student’s\n",
        "total marks, percentage and grade. Display student’s basic information and result\n",
        "information using derived class."
      ]
    },
    {
      "cell_type": "code",
      "metadata": {
        "colab": {
          "base_uri": "https://localhost:8080/"
        },
        "id": "918Us6rwzdyT",
        "outputId": "ba4ec8d0-67b9-4c36-ba3b-374f6cbb237c"
      },
      "source": [
        "class Student:\n",
        "  def set_Data(self):\n",
        "        self.name = input(\"Enter the name of student : \")\n",
        "        self.reg_no = int(input(\"Enter the Registration Number : \"))\n",
        "        self.age = int(input(\"Enter the age : \"))\n",
        "        self.gender = input(\"Enter Gender : \")\n",
        "        self.branch = input(\"Enter Branch : \")\n",
        "        self.sem = int(input(\"Enter the semester: \"))\n",
        "    \n",
        "  def get_Data(self):\n",
        "        print(f\"\\nStudent information :  \\nName : {self.name} \\nRegistration number : {self.reg_no}  \\nAge : {self.age} \\nGender : {self.gender} \\nBranch : {self.branch} \\nsemester : {self.sem}\")\n",
        "\n",
        "class StudentResultInfo(Student):\n",
        "    def set_Data(self):\n",
        "        Student.set_Data(self)\n",
        "        self.total_marks = int(input(\"Enter total marks : \"))\n",
        "        self.percentage = float(input(\"Enter percentage : \"))\n",
        "        self.grade = input(\"Enter grade : \")\n",
        "\n",
        "    def get_Data(self):\n",
        "        Student.get_Data(self)\n",
        "        print(f\"Total Marks : {self.total_marks} \\nPercentage : {self.percentage} \\nGrade : {self.grade}\")\n",
        "\n",
        "s1 = StudentResultInfo()\n",
        "s1.set_Data()\n",
        "s1.get_Data()   "
      ],
      "execution_count": 51,
      "outputs": [
        {
          "output_type": "stream",
          "name": "stdout",
          "text": [
            "Enter the name of student : Mahi\n",
            "Enter the Registration Number : 39\n",
            "Enter the age : 19\n",
            "Enter Gender : Female\n",
            "Enter Branch : IT\n",
            "Enter the semester: 2\n",
            "Enter total marks : 475\n",
            "Enter percentage : 95\n",
            "Enter grade : A\n",
            "\n",
            "Student information :  \n",
            "Name : Mahi \n",
            "Registration number : 39  \n",
            "Age : 19 \n",
            "Gender : Female \n",
            "Branch : IT \n",
            "semester : 2\n",
            "Total Marks : 475 \n",
            "Percentage : 95.0 \n",
            "Grade : A\n"
          ]
        }
      ]
    },
    {
      "cell_type": "markdown",
      "metadata": {
        "id": "23KBOMt-SFLQ"
      },
      "source": [
        "Problem 2 : Imagine you&#39;re writing a Content Management system - this system will store two types\n",
        "of documents.\n",
        " PDFs (who created, description, file size)\n",
        " Pictures (who created, description, image dimensions, file size)\n",
        "Imagine you&#39;re now asked to add a few features:\n",
        "o Checking to see whether the file size is beyond a certain threshold.\n",
        "o Display the details of document.\n",
        "o Checking to see whether it&#39;s too high of dimension of picture.\n",
        "Note: use inheritance concept to reduce length of code."
      ]
    },
    {
      "cell_type": "code",
      "metadata": {
        "colab": {
          "base_uri": "https://localhost:8080/"
        },
        "id": "A954aDliKE0w",
        "outputId": "acf2287c-3f05-41a8-f91e-50ca47a7487c"
      },
      "source": [
        "class PDF:\n",
        "    def __init__(self):\n",
        "        self.creator=None\n",
        "        self.desc=None\n",
        "        self.file_size=None\n",
        "\n",
        "    def get_PDF(self):\n",
        "        self.creator=input(\"Enter the name of creator of the file : \")\n",
        "        self.descr=input(\"Enter Description of file : \")\n",
        "        self.file_size=int(input(\"Enter File Size (in KB) : \"))\n",
        "\n",
        "class Pictures(PDF):\n",
        "    def __init__(self):\n",
        "        super().__init__()\n",
        "        self.dimensions=None\n",
        "\n",
        "    def get_Pictures(self):\n",
        "        self.get_PDF()\n",
        "        self.dimensions=list(map(int,input(\"Enter Dimensions of Picture (in W H; space separated) : \").split()))\n",
        "\n",
        "class NewFeatures(Pictures):\n",
        "    def __init__(self,file_object=None):\n",
        "        self.max_file_size = 70\n",
        "        self.max_dimensions = [1700,850]\n",
        "        self.file_object=file_object if file_object != None else self\n",
        "        if type(self.file_object) == NewFeatures:\n",
        "            self.get_PDF()\n",
        "\n",
        "    def put_PDF(self):\n",
        "        print(\"Creator - \",self.file_object.creator)\n",
        "        print(\"Description - \",self.file_object.descr)\n",
        "        print(\"File Size - \",self.file_object.file_size)\n",
        "\n",
        "    def put_Pictures(self):\n",
        "        self.put_PDF()\n",
        "        print(\"Dimensions - \",self.file_object.dimensions)\n",
        "\n",
        "    def check_file_size(self):\n",
        "        if self.file_object.file_size > self.max_file_size:\n",
        "            print(f\"\\nFile Size Exceeded; Threshold is {self.max_file_size}KB and File size is {self.file_object.file_size}KB\")\n",
        "        else:\n",
        "            print(f\"\\nFile Size - Good; Threshold is {self.max_file_size}KB and File size is {self.file_object.file_size}KB\")\n",
        "\n",
        "    def check_dimensions(self):\n",
        "        if self.file_object.dimensions[0] > self.max_dimensions[0] or self.file_object.dimensions[1] > self.max_dimensions[1]:\n",
        "            print(f\"\\nFile Dimension Exceeded; Threshold is {self.max_dimensions}px and File size is {self.file_object.dimensions}px\")\n",
        "        else:\n",
        "            print(f\"\\nFile Dimension - Good; Threshold is {self.max_dimensions}px and File size is {self.file_object.dimensions}px\")\n",
        "\n",
        "\n",
        "pdf = PDF()\n",
        "pdf.get_PDF()\n",
        "print()\n",
        "new_pdf = NewFeatures(pdf)\n",
        "new_pdf.put_PDF()\n",
        "new_pdf.check_file_size()\n",
        "\n",
        "print()\n",
        "picture = Pictures()\n",
        "picture.get_Pictures()\n",
        "print()\n",
        "new_picture = NewFeatures(picture)\n",
        "new_picture.put_Pictures()\n",
        "new_picture.check_file_size()\n",
        "new_picture.check_dimensions()"
      ],
      "execution_count": 52,
      "outputs": [
        {
          "output_type": "stream",
          "name": "stdout",
          "text": [
            "Enter the name of creator of the file : Vashi\n",
            "Enter Description of file : pdf\n",
            "Enter File Size (in KB) : 39\n",
            "\n",
            "Creator -  Vashi\n",
            "Description -  pdf\n",
            "File Size -  39\n",
            "\n",
            "File Size - Good; Threshold is 70KB and File size is 39KB\n",
            "\n",
            "Enter the name of creator of the file : Nishchay\n",
            "Enter Description of file : picture\n",
            "Enter File Size (in KB) : 70\n",
            "Enter Dimensions of Picture (in W H; space separated) : 1280  560\n",
            "\n",
            "Creator -  Nishchay\n",
            "Description -  picture\n",
            "File Size -  70\n",
            "Dimensions -  [1280, 560]\n",
            "\n",
            "File Size - Good; Threshold is 70KB and File size is 70KB\n",
            "\n",
            "File Dimension - Good; Threshold is [1700, 850]px and File size is [1280, 560]px\n"
          ]
        }
      ]
    },
    {
      "cell_type": "markdown",
      "metadata": {
        "id": "gjwvGxXZSPzO"
      },
      "source": [
        "Problem 3 : Create vehicle class with data member’s name, mileage and capacity and member\n",
        "function bus fare. Create a Bus child class that inherits from the Vehicle class. The\n",
        "default fare charge of any vehicle is seating capacity * 100. If Vehicle is Bus instance,\n",
        "we need to add an extra 10% on full fare as a maintenance charge. So total fare for bus\n",
        "instance will become the final amount = total fare + 10% of the total fare.\n",
        "Note: The bus seating capacity is 50."
      ]
    },
    {
      "cell_type": "code",
      "metadata": {
        "colab": {
          "base_uri": "https://localhost:8080/"
        },
        "id": "Fc2bTPI6-Yb-",
        "outputId": "f545d339-042e-4be4-a0b1-0de958a44475"
      },
      "source": [
        "class Vehicle:\n",
        "    def __init__(self, name, mileage, capacity):\n",
        "        self.name = name\n",
        "        self.mileage = mileage\n",
        "        self.capacity = capacity\n",
        "\n",
        "    def capacity(self):\n",
        "        return self.capacity * 100\n",
        "\n",
        "class Bus(Vehicle):\n",
        "    def bus_fare(self):\n",
        "        amount = super().capacity()\n",
        "        amount += amount * 10 / 100\n",
        "        return amount\n",
        "\n",
        "School_bus = Bus(\"School Movers\", 18, 50)\n",
        "print(\"Total Bus fare is:\", School_bus.bus_fare())"
      ],
      "execution_count": 53,
      "outputs": [
        {
          "output_type": "stream",
          "name": "stdout",
          "text": [
            "Total Bus fare is: 5500.0\n"
          ]
        }
      ]
    }
  ]
}