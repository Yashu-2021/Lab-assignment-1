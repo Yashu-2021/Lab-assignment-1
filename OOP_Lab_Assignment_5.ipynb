{
  "nbformat": 4,
  "nbformat_minor": 0,
  "metadata": {
    "colab": {
      "name": "OOP_Lab_Assignment_5",
      "provenance": [],
      "authorship_tag": "ABX9TyN0GBKhCWwvkPV1kSyRdV8t",
      "include_colab_link": true
    },
    "kernelspec": {
      "name": "python3",
      "display_name": "Python 3"
    },
    "language_info": {
      "name": "python"
    }
  },
  "cells": [
    {
      "cell_type": "markdown",
      "metadata": {
        "id": "view-in-github",
        "colab_type": "text"
      },
      "source": [
        "<a href=\"https://colab.research.google.com/github/Yashu-2021/OOP-Lab-assignments/blob/main/OOP_Lab_Assignment_5.ipynb\" target=\"_parent\"><img src=\"https://colab.research.google.com/assets/colab-badge.svg\" alt=\"Open In Colab\"/></a>"
      ]
    },
    {
      "cell_type": "markdown",
      "metadata": {
        "id": "zJVY8DplNw3W"
      },
      "source": [
        "                  ** OOP TASK 5**\n",
        "\n",
        "Problem 1:  Write a Python programme to create the parent class shape, derive the subclasses circle,\n",
        "square, and rectangle from the class shape, and demonstrate polymorphism in inheritance\n",
        "using a member function area ()."
      ]
    },
    {
      "cell_type": "code",
      "metadata": {
        "colab": {
          "base_uri": "https://localhost:8080/"
        },
        "id": "rIroV6oSOD-6",
        "outputId": "158eb640-5d8e-4876-bbf3-132ddbb9a606"
      },
      "source": [
        "from abc import ABC, abstractmethod\n",
        "import numpy as np\n",
        "\n",
        "class Shape:\n",
        "  def __init__(self, shape):\n",
        "    self.shape = shape\n",
        "  \n",
        "  @abstractmethod\n",
        "  def area(self):\n",
        "    pass\n",
        "\n",
        "class Circle(Shape):\n",
        "  def __init__(self, radius):\n",
        "    Shape.__init__(self, 'Circle')\n",
        "    self.radius = radius\n",
        "  \n",
        "  def area(self):\n",
        "    return round(np.pi * (self.radius**2))\n",
        "\n",
        "class Square(Shape):\n",
        "  def __init__(self, length):\n",
        "    Shape.__init__(self, 'Square')\n",
        "    self.length = length\n",
        "\n",
        "  def area(self):\n",
        "    return self.length**2\n",
        "\n",
        "class Rectangle(Shape):\n",
        "  def __init__(self, length, breadth):\n",
        "    Shape.__init__(self, 'Rectangle')\n",
        "    self.length = length\n",
        "    self.breadth = breadth\n",
        "\n",
        "  def area(self):\n",
        "    return self.length*self.breadth\n",
        "\n",
        "c = Circle(7)\n",
        "s = Square(8)\n",
        "r = Rectangle(3, 9)\n",
        "print(f'Area of Circle: {c.area()}\\nArea of Square: {s.area()}\\nArea of Rectangle: {r.area()}')"
      ],
      "execution_count": 33,
      "outputs": [
        {
          "output_type": "stream",
          "name": "stdout",
          "text": [
            "Area of Circle: 154\n",
            "Area of Square: 64\n",
            "Area of Rectangle: 27\n"
          ]
        }
      ]
    },
    {
      "cell_type": "markdown",
      "metadata": {
        "id": "1QUcFabMTrxV"
      },
      "source": [
        "Problem 2: The family has decided to travel by road from Dharwad to Belagavi, and they have\n",
        "chosen to estimate the cost before starting on this journey. Write python code to create\n",
        "the parent class Travel with member functions include the number of passengers, the\n",
        "distance travelled, and the mode of transportation. Derive two subclasses, train and bus,\n",
        "from the parent class, each with a member function that calculates the cost of trip. Also,\n",
        "keep the numbers of passengers as a private member of the parent class and try to access\n",
        "it through the child class to estimate costs.\n",
        "[Note: Assume cost of travelling/person through train = 60 rs, cost of travelling /person\n",
        "through bus= 100 rs]."
      ]
    },
    {
      "cell_type": "code",
      "metadata": {
        "colab": {
          "base_uri": "https://localhost:8080/"
        },
        "id": "xaCbQM-8RRBo",
        "outputId": "623fe006-e688-4576-d200-490fca2945f2"
      },
      "source": [
        "from abc import ABC, abstractmethod\n",
        "class Travel(ABC):\n",
        "    def __init__(self, number, distance, mode):\n",
        "        self.__number = number\n",
        "        self.distance = distance\n",
        "        self.mode = mode\n",
        "\n",
        "    @abstractmethod\n",
        "    def cost(self):\n",
        "        pass\n",
        "\n",
        "class Bus(Travel):\n",
        "    def __init__(self, number, distance):\n",
        "        Travel.__init__(self, number, distance, 'Bus')\n",
        "\n",
        "    def cost(self):\n",
        "        return 100*self._Travel__number                    \n",
        "\n",
        "class Train(Travel):\n",
        "    def __init__(self, number, distance):\n",
        "        Travel.__init__(self, number, distance, 'Train')\n",
        "\n",
        "    def cost(self):\n",
        "        return 60*self._Travel__number\n",
        "\n",
        "dharwad_To_Belagavi = '80 km'               #Distance\n",
        "train_Trip = Train(3, dharwadToBelagavi)\n",
        "print(\"Cost of traveling by train:\", train_Trip.cost())\n",
        "bus_Trip = Bus(3, dharwadToBelagavi)\n",
        "print(\"Cost of traveling by bus  :\", bus_Trip.cost())"
      ],
      "execution_count": 34,
      "outputs": [
        {
          "output_type": "stream",
          "name": "stdout",
          "text": [
            "Cost of traveling by train: 180\n",
            "Cost of traveling by bus  : 300\n"
          ]
        }
      ]
    },
    {
      "cell_type": "markdown",
      "metadata": {
        "id": "i2fXJ4ufLoYi"
      },
      "source": [
        "Problem 3 : Assume that there a class Car with model number as its member variable. Write a python\n",
        "program to swap the values of model number in Car objects c1 and c2."
      ]
    },
    {
      "cell_type": "code",
      "metadata": {
        "colab": {
          "base_uri": "https://localhost:8080/"
        },
        "id": "9GUOSFuNLl9u",
        "outputId": "2240dfe1-efab-472d-a53d-79c262325a29"
      },
      "source": [
        "class Car:\n",
        "    def __init__(self, number, year, price):\n",
        "        self.number = number\n",
        "        self.year = year\n",
        "        self.price = price\n",
        "    \n",
        "    def set_Number(self, num):\n",
        "        self.number = num\n",
        "\n",
        "def swap_Number(obj1, obj2):\n",
        "    temp = obj1.number \n",
        "    obj1.set_Number(obj2.number)\n",
        "    obj2.set_Number(temp)\n",
        "\n",
        "c1 = Car('91AJ23', '2016', 1350000)\n",
        "c2 = Car('56MK34', '2020', 2000000)\n",
        "print(\"Before Swapping: c1's  model number: {0} and c2's  model number: {1}\".format(c1.number, c2.number))\n",
        "swap_Number(c1, c2)\n",
        "print(\"After Swapping: c1's  model number: {0} and c2's model number: {1}\".format(c1.number, c2.number))"
      ],
      "execution_count": 35,
      "outputs": [
        {
          "output_type": "stream",
          "name": "stdout",
          "text": [
            "Before Swapping: c1's  model number: 91AJ23 and c2's  model number: 56MK34\n",
            "After Swapping: c1's  model number: 56MK34 and c2's model number: 91AJ23\n"
          ]
        }
      ]
    }
  ]
}