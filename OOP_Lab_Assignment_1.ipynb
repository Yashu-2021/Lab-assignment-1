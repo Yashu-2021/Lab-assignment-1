{
  "nbformat": 4,
  "nbformat_minor": 0,
  "metadata": {
    "colab": {
      "name": " OOP Lab Assignment - 1",
      "provenance": [],
      "authorship_tag": "ABX9TyP/cj+Xjik0ArTzfmDPXio+",
      "include_colab_link": true
    },
    "kernelspec": {
      "name": "python3",
      "display_name": "Python 3"
    },
    "language_info": {
      "name": "python"
    }
  },
  "cells": [
    {
      "cell_type": "markdown",
      "metadata": {
        "id": "view-in-github",
        "colab_type": "text"
      },
      "source": [
        "<a href=\"https://colab.research.google.com/github/Yashu-2021/OOP-Lab-assignment-1/blob/main/OOP_Lab_Assignment_1.ipynb\" target=\"_parent\"><img src=\"https://colab.research.google.com/assets/colab-badge.svg\" alt=\"Open In Colab\"/></a>"
      ]
    },
    {
      "cell_type": "code",
      "metadata": {
        "colab": {
          "base_uri": "https://localhost:8080/"
        },
        "id": "dHzZsjG7q-Hf",
        "outputId": "81f31372-8639-45d2-a086-640bccb3f8b6"
      },
      "source": [
        "#Problem 1  (Leap year)\n",
        "\n",
        "def is_Leap_Year(year):\n",
        "  if year%400 == 0:\n",
        "    return True\n",
        "  elif year%4 == 0 and year%100 !=0:\n",
        "    return True\n",
        "  else:\n",
        "    return False\n",
        "\n",
        "year = int(input(\"Enter the Year: \"))\n",
        "is_Leap_Year(year)"
      ],
      "execution_count": 9,
      "outputs": [
        {
          "name": "stdout",
          "output_type": "stream",
          "text": [
            "Enter the Year: 2020\n"
          ]
        },
        {
          "output_type": "execute_result",
          "data": {
            "text/plain": [
              "True"
            ]
          },
          "metadata": {},
          "execution_count": 9
        }
      ]
    },
    {
      "cell_type": "code",
      "metadata": {
        "colab": {
          "base_uri": "https://localhost:8080/"
        },
        "id": "uXMC_AxarHO5",
        "outputId": "928eeb71-bef3-4926-c62b-c77d0d3ebced"
      },
      "source": [
        "#Problem 2   (Weird Number)\n",
        "\n",
        "def is_Weird(num):\n",
        "  if num%2 != 0:\n",
        "    print(\"Weird\")\n",
        "  elif num%2 == 0 and num in range(2,6):\n",
        "    print(\"Not Weird\")\n",
        "  elif num%2 == 0 and num in range (6,21):\n",
        "    print(\"Weird\")\n",
        "  elif num%2 == 0 and num>20:\n",
        "    print(\"Not Weird\")\n",
        "  else:\n",
        "    print(\"Unspecified.\")\n",
        "num = int(input('Enter a number: '))\n",
        "is_Weird(num)\n",
        "\n"
      ],
      "execution_count": 10,
      "outputs": [
        {
          "output_type": "stream",
          "name": "stdout",
          "text": [
            "Enter a number: 23\n",
            "Weird\n"
          ]
        }
      ]
    },
    {
      "cell_type": "code",
      "metadata": {
        "colab": {
          "base_uri": "https://localhost:8080/"
        },
        "id": "6sChoY3GrMZj",
        "outputId": "ea4dbef3-ad55-4e4d-85a7-2193e820bafa"
      },
      "source": [
        "#Problem 3 (Arrival problem)\n",
        "\n",
        "n = int(input(\"Enter the number of Guests: \"))\n",
        "guests = []\n",
        "\n",
        "for i in range(0, n):\n",
        "  name = str(input(\"Enter the name of Guests: \"))\n",
        "  guests.append(name)\n",
        "print(\"Guests are: \", guests)\n",
        "if(n%2==0):\n",
        "  for k in range( int((n)/2) , n-1):\n",
        "    print(\"\\nFashionable late persons are: \", guests[k])\n",
        "elif(n%2 != 0):\n",
        "  for k in range( int((n-1)/2) , n-1):\n",
        "    print(\"\\nFashionable late persons are: \", guests[k])\n",
        "\n",
        "\n"
      ],
      "execution_count": 11,
      "outputs": [
        {
          "output_type": "stream",
          "name": "stdout",
          "text": [
            "Enter the number of Guests: 5\n",
            "Enter the name of Guests: Mahi\n",
            "Enter the name of Guests: Rahane\n",
            "Enter the name of Guests: Rohit\n",
            "Enter the name of Guests: Shardul\n",
            "Enter the name of Guests: Virat\n",
            "Guests are:  ['Mahi', 'Rahane', 'Rohit', 'Shardul', 'Virat']\n",
            "\n",
            "Fashionable late persons are:  Rohit\n",
            "\n",
            "Fashionable late persons are:  Shardul\n"
          ]
        }
      ]
    },
    {
      "cell_type": "code",
      "metadata": {
        "colab": {
          "base_uri": "https://localhost:8080/"
        },
        "id": "WKy7VFW2pwtL",
        "outputId": "907d05a8-92be-4bd2-8f58-a758074b6fda"
      },
      "source": [
        "#Problem 4 (Keyword problem)\n",
        "\n",
        "def search_for_keyword(doc_list, keyword):\n",
        "  req_list = []\n",
        "  for doc in doc_list:\n",
        "    duplicate = doc\n",
        "    duplicate.replace(',','')\n",
        "    duplicate.replace('.','')\n",
        "    duplicate_list = duplicate.split()\n",
        "    for word in duplicate_list:\n",
        "      if word.lower() == keyword.lower():\n",
        "        req_list.append(doc)\n",
        "  \n",
        "  return req_list\n",
        "\n",
        "doc_list = [\"The Learn Python Challenge Rohit.\", \"They bought a car\", \"bangalore\"]\n",
        "\n",
        "keyword = input('Enter the keyword: ')\n",
        "required_list = search_for_keyword(doc_list, keyword)\n",
        "print(required_list)\n",
        "\n",
        "keyword = input('Enter the keyword: ')\n",
        "required_list = search_for_keyword(doc_list, keyword)\n",
        "print(required_list)\n",
        "\n",
        "keyword = input('Enter the keyword: ')\n",
        "required_list = search_for_keyword(doc_list, keyword)\n",
        "print(required_list)\n"
      ],
      "execution_count": 1,
      "outputs": [
        {
          "output_type": "stream",
          "name": "stdout",
          "text": [
            "Enter the keyword: learn\n",
            "['The Learn Python Challenge Rohit.']\n",
            "Enter the keyword: bought\n",
            "['They bought a car']\n",
            "Enter the keyword: BANGALORE\n",
            "['bangalore']\n"
          ]
        }
      ]
    },
    {
      "cell_type": "code",
      "metadata": {
        "colab": {
          "base_uri": "https://localhost:8080/"
        },
        "id": "2T28ovmvwY4h",
        "outputId": "c57ab885-ff52-4d46-d3f7-0fedc16a6c4e"
      },
      "source": [
        "# Problem 5  (Gross pay)\n",
        "\n",
        "def grossPay(BP):\n",
        "  DA = (40*BP)/100\n",
        "  GRA = (20*BP)/100\n",
        "  return BP+DA+GRA\n",
        "BP = int(input(\"Enter your basic pay: \"))\n",
        "print(\"Gross pay is: {0}\".format(grossPay(BP)))"
      ],
      "execution_count": 4,
      "outputs": [
        {
          "output_type": "stream",
          "name": "stdout",
          "text": [
            "Enter your basic pay: 2360\n",
            "Gross pay is: 3776.0\n"
          ]
        }
      ]
    }
  ]
}